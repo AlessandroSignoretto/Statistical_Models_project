{
 "cells": [
  {
   "cell_type": "markdown",
   "metadata": {},
   "source": [
    "<h2><b>Wind Power Generation forecasting</b></h2>"
   ]
  },
  {
   "cell_type": "code",
   "execution_count": 1,
   "metadata": {},
   "outputs": [],
   "source": [
    "import numpy as np\n",
    "import pandas as pd\n",
    "import statsmodels.api as sm\n",
    "import statsmodels.tsa.stattools as st\n",
    "import sklearn \n",
    "from scipy import stats,signal\n",
    "from sklearn.linear_model import LinearRegression\n",
    "from datetime import datetime\n",
    "import datetime as dt\n",
    "from scipy import stats,signal\n",
    "from statsmodels.tsa.exponential_smoothing.ets import ETSModel \n",
    "from statsmodels.tsa.seasonal import seasonal_decompose\n",
    "from statsmodels.stats.diagnostic import acorr_ljungbox\n",
    "from sklearn.metrics import r2_score,mean_squared_error, mean_absolute_error, mean_absolute_percentage_error\n",
    "from statsmodels.tsa.arima_process import ArmaProcess\n",
    "from statsmodels.graphics.tsaplots import plot_acf, plot_pacf\n",
    "from statsmodels.tsa.arima.model import ARIMA\n",
    "from statsmodels.tsa.statespace.sarimax import SARIMAX\n",
    "from statsmodels.tsa.api import VAR # da vedere se tenere questo\n",
    "from statsmodels.tsa.statespace.varmax import VARMAX\n",
    "from statsmodels.tsa.stattools import adfuller, kpss\n",
    "from statsmodels.stats.stattools import durbin_watson\n",
    "import warnings\n",
    "warnings.filterwarnings(\"ignore\")\n",
    "import matplotlib.pyplot as plt\n",
    "import seaborn as sns\n",
    "plt.style.use('seaborn')"
   ]
  },
  {
   "cell_type": "markdown",
   "metadata": {},
   "source": [
    "<h3><b>Data Acquisition</b></h3>"
   ]
  },
  {
   "cell_type": "markdown",
   "metadata": {},
   "source": [
    "As first step we convert the dataset in a dataframe pandas and let’s take a first look at how it looks."
   ]
  },
  {
   "cell_type": "code",
   "execution_count": 6,
   "metadata": {},
   "outputs": [
    {
     "data": {
      "text/html": [
       "<div>\n",
       "<style scoped>\n",
       "    .dataframe tbody tr th:only-of-type {\n",
       "        vertical-align: middle;\n",
       "    }\n",
       "\n",
       "    .dataframe tbody tr th {\n",
       "        vertical-align: top;\n",
       "    }\n",
       "\n",
       "    .dataframe thead th {\n",
       "        text-align: right;\n",
       "    }\n",
       "</style>\n",
       "<table border=\"1\" class=\"dataframe\">\n",
       "  <thead>\n",
       "    <tr style=\"text-align: right;\">\n",
       "      <th></th>\n",
       "      <th>utc_timestamp</th>\n",
       "      <th>wind_generation_actual</th>\n",
       "      <th>wind_capacity</th>\n",
       "      <th>temperature</th>\n",
       "    </tr>\n",
       "  </thead>\n",
       "  <tbody>\n",
       "    <tr>\n",
       "      <th>0</th>\n",
       "      <td>2017-01-01 00:00:00+00:00</td>\n",
       "      <td>291760.0</td>\n",
       "      <td>37149.130</td>\n",
       "      <td>-2.117</td>\n",
       "    </tr>\n",
       "    <tr>\n",
       "      <th>1</th>\n",
       "      <td>2017-01-02 00:00:00+00:00</td>\n",
       "      <td>295097.0</td>\n",
       "      <td>37152.125</td>\n",
       "      <td>-1.154</td>\n",
       "    </tr>\n",
       "    <tr>\n",
       "      <th>2</th>\n",
       "      <td>2017-01-03 00:00:00+00:00</td>\n",
       "      <td>666170.0</td>\n",
       "      <td>37155.208</td>\n",
       "      <td>-0.239</td>\n",
       "    </tr>\n",
       "    <tr>\n",
       "      <th>3</th>\n",
       "      <td>2017-01-04 00:00:00+00:00</td>\n",
       "      <td>686581.0</td>\n",
       "      <td>37160.125</td>\n",
       "      <td>0.620</td>\n",
       "    </tr>\n",
       "    <tr>\n",
       "      <th>4</th>\n",
       "      <td>2017-01-05 00:00:00+00:00</td>\n",
       "      <td>261759.0</td>\n",
       "      <td>37163.542</td>\n",
       "      <td>-3.908</td>\n",
       "    </tr>\n",
       "    <tr>\n",
       "      <th>...</th>\n",
       "      <td>...</td>\n",
       "      <td>...</td>\n",
       "      <td>...</td>\n",
       "      <td>...</td>\n",
       "    </tr>\n",
       "    <tr>\n",
       "      <th>1089</th>\n",
       "      <td>2019-12-26 00:00:00+00:00</td>\n",
       "      <td>132739.0</td>\n",
       "      <td>50424.125</td>\n",
       "      <td>2.790</td>\n",
       "    </tr>\n",
       "    <tr>\n",
       "      <th>1090</th>\n",
       "      <td>2019-12-27 00:00:00+00:00</td>\n",
       "      <td>146590.0</td>\n",
       "      <td>50427.000</td>\n",
       "      <td>1.327</td>\n",
       "    </tr>\n",
       "    <tr>\n",
       "      <th>1091</th>\n",
       "      <td>2019-12-28 00:00:00+00:00</td>\n",
       "      <td>159126.0</td>\n",
       "      <td>50427.292</td>\n",
       "      <td>-1.441</td>\n",
       "    </tr>\n",
       "    <tr>\n",
       "      <th>1092</th>\n",
       "      <td>2019-12-29 00:00:00+00:00</td>\n",
       "      <td>349839.0</td>\n",
       "      <td>50434.750</td>\n",
       "      <td>-1.314</td>\n",
       "    </tr>\n",
       "    <tr>\n",
       "      <th>1093</th>\n",
       "      <td>2019-12-30 00:00:00+00:00</td>\n",
       "      <td>639343.0</td>\n",
       "      <td>50452.000</td>\n",
       "      <td>0.542</td>\n",
       "    </tr>\n",
       "  </tbody>\n",
       "</table>\n",
       "<p>1094 rows × 4 columns</p>\n",
       "</div>"
      ],
      "text/plain": [
       "                  utc_timestamp  wind_generation_actual  wind_capacity  \\\n",
       "0     2017-01-01 00:00:00+00:00                291760.0      37149.130   \n",
       "1     2017-01-02 00:00:00+00:00                295097.0      37152.125   \n",
       "2     2017-01-03 00:00:00+00:00                666170.0      37155.208   \n",
       "3     2017-01-04 00:00:00+00:00                686581.0      37160.125   \n",
       "4     2017-01-05 00:00:00+00:00                261759.0      37163.542   \n",
       "...                         ...                     ...            ...   \n",
       "1089  2019-12-26 00:00:00+00:00                132739.0      50424.125   \n",
       "1090  2019-12-27 00:00:00+00:00                146590.0      50427.000   \n",
       "1091  2019-12-28 00:00:00+00:00                159126.0      50427.292   \n",
       "1092  2019-12-29 00:00:00+00:00                349839.0      50434.750   \n",
       "1093  2019-12-30 00:00:00+00:00                639343.0      50452.000   \n",
       "\n",
       "      temperature  \n",
       "0          -2.117  \n",
       "1          -1.154  \n",
       "2          -0.239  \n",
       "3           0.620  \n",
       "4          -3.908  \n",
       "...           ...  \n",
       "1089        2.790  \n",
       "1090        1.327  \n",
       "1091       -1.441  \n",
       "1092       -1.314  \n",
       "1093        0.542  \n",
       "\n",
       "[1094 rows x 4 columns]"
      ]
     },
     "execution_count": 6,
     "metadata": {},
     "output_type": "execute_result"
    }
   ],
   "source": [
    "Wind_df = pd.read_csv(\"C:/Users/alesi/Desktop/Models/Progetto Models/WindEnergy.csv\")\n",
    "Wind_df"
   ]
  },
  {
   "cell_type": "markdown",
   "metadata": {},
   "source": [
    "The dataframe has 4 columns:\n",
    "- utc_timestamp : year/month/day from 2017/01/01 to 2019/12/30;\n",
    "- wind_generation_actual : power generated by the turbines in Germany on a specific day;\n",
    "- wind_capacity : total amount of power generated through a time interval;\n",
    "- temperature : mean temperature on a specific day."
   ]
  },
  {
   "cell_type": "markdown",
   "metadata": {},
   "source": [
    "<h4><b>Check for null and redundant values</b></h4>"
   ]
  },
  {
   "cell_type": "code",
   "execution_count": 13,
   "metadata": {},
   "outputs": [
    {
     "name": "stdout",
     "output_type": "stream",
     "text": [
      "<class 'pandas.core.frame.DataFrame'>\n",
      "RangeIndex: 1094 entries, 0 to 1093\n",
      "Data columns (total 4 columns):\n",
      " #   Column                  Non-Null Count  Dtype  \n",
      "---  ------                  --------------  -----  \n",
      " 0   utc_timestamp           1094 non-null   object \n",
      " 1   wind_generation_actual  1094 non-null   float64\n",
      " 2   wind_capacity           1094 non-null   float64\n",
      " 3   temperature             1094 non-null   float64\n",
      "dtypes: float64(3), object(1)\n",
      "memory usage: 34.3+ KB\n"
     ]
    },
    {
     "data": {
      "text/plain": [
       "utc_timestamp             0\n",
       "wind_generation_actual    0\n",
       "wind_capacity             0\n",
       "temperature               0\n",
       "dtype: int64"
      ]
     },
     "execution_count": 13,
     "metadata": {},
     "output_type": "execute_result"
    }
   ],
   "source": [
    "Wind_df.info()\n",
    "# Check null values\n",
    "Wind_df.isna().sum()\n"
   ]
  },
  {
   "cell_type": "code",
   "execution_count": 14,
   "metadata": {},
   "outputs": [
    {
     "data": {
      "text/html": [
       "<div>\n",
       "<style scoped>\n",
       "    .dataframe tbody tr th:only-of-type {\n",
       "        vertical-align: middle;\n",
       "    }\n",
       "\n",
       "    .dataframe tbody tr th {\n",
       "        vertical-align: top;\n",
       "    }\n",
       "\n",
       "    .dataframe thead th {\n",
       "        text-align: right;\n",
       "    }\n",
       "</style>\n",
       "<table border=\"1\" class=\"dataframe\">\n",
       "  <thead>\n",
       "    <tr style=\"text-align: right;\">\n",
       "      <th></th>\n",
       "      <th>utc_timestamp</th>\n",
       "      <th>wind_generation_actual</th>\n",
       "      <th>wind_capacity</th>\n",
       "      <th>temperature</th>\n",
       "    </tr>\n",
       "  </thead>\n",
       "  <tbody>\n",
       "  </tbody>\n",
       "</table>\n",
       "</div>"
      ],
      "text/plain": [
       "Empty DataFrame\n",
       "Columns: [utc_timestamp, wind_generation_actual, wind_capacity, temperature]\n",
       "Index: []"
      ]
     },
     "execution_count": 14,
     "metadata": {},
     "output_type": "execute_result"
    }
   ],
   "source": [
    "# Check duplicates\n",
    "Wind_df[Wind_df.duplicated()]"
   ]
  },
  {
   "cell_type": "markdown",
   "metadata": {},
   "source": [
    "After these two preliminary analyses we can say that there are no null and redundant values."
   ]
  }
 ],
 "metadata": {
  "kernelspec": {
   "display_name": "Python 3",
   "language": "python",
   "name": "python3"
  },
  "language_info": {
   "codemirror_mode": {
    "name": "ipython",
    "version": 3
   },
   "file_extension": ".py",
   "mimetype": "text/x-python",
   "name": "python",
   "nbconvert_exporter": "python",
   "pygments_lexer": "ipython3",
   "version": "3.10.11"
  }
 },
 "nbformat": 4,
 "nbformat_minor": 2
}
